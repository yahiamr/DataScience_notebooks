{
 "cells": [
  {
   "cell_type": "code",
   "execution_count": null,
   "id": "3f5de7ad",
   "metadata": {},
   "outputs": [],
   "source": [
    "import pandas as pd\n",
    "import matplotlib.pylab as plt\n",
    "%matplotlib inline"
   ]
  },
  {
   "cell_type": "code",
   "execution_count": null,
   "id": "099b76a8",
   "metadata": {},
   "outputs": [],
   "source": [
    "housing = pd.read_csv('./housing/housing.csv')"
   ]
  },
  {
   "cell_type": "code",
   "execution_count": null,
   "id": "7e53e80b",
   "metadata": {},
   "outputs": [],
   "source": [
    "housing.head()"
   ]
  },
  {
   "cell_type": "code",
   "execution_count": null,
   "id": "feb15479",
   "metadata": {},
   "outputs": [],
   "source": [
    "housing.info()"
   ]
  },
  {
   "cell_type": "code",
   "execution_count": null,
   "id": "3da1cdea",
   "metadata": {},
   "outputs": [],
   "source": [
    "housing['ocean_proximity'].value_counts()"
   ]
  },
  {
   "cell_type": "code",
   "execution_count": null,
   "id": "2889eb36",
   "metadata": {},
   "outputs": [],
   "source": [
    "housing.describe()"
   ]
  },
  {
   "cell_type": "code",
   "execution_count": null,
   "id": "435f6913",
   "metadata": {},
   "outputs": [],
   "source": [
    "housing.hist(bins = 50,figsize=(20,15))\n",
    "plt.show()"
   ]
  },
  {
   "cell_type": "markdown",
   "id": "69c48fcc",
   "metadata": {},
   "source": [
    "## split dataset"
   ]
  },
  {
   "cell_type": "code",
   "execution_count": null,
   "id": "72350cf9",
   "metadata": {},
   "outputs": [],
   "source": [
    "from sklearn.model_selection import train_test_split\n",
    "import numpy as np\n",
    "# X = housing.drop(['median_house_value'],axis=1)\n",
    "# y = housing['median_house_value']"
   ]
  },
  {
   "cell_type": "code",
   "execution_count": null,
   "id": "55de84d3",
   "metadata": {},
   "outputs": [],
   "source": [
    "train_set, test_set = train_test_split(housing,test_size=0.2,random_state=42)"
   ]
  },
  {
   "cell_type": "code",
   "execution_count": null,
   "id": "77242c0d",
   "metadata": {},
   "outputs": [],
   "source": [
    "housing['income_cat'] = pd.cut(housing['median_income'],\n",
    "                              bins = [0,1.5,3.0,4.5,6,np.inf],\n",
    "                              labels = [1,2,3,4,5])"
   ]
  },
  {
   "cell_type": "code",
   "execution_count": null,
   "id": "67e42ba2",
   "metadata": {},
   "outputs": [],
   "source": [
    "housing['income_cat'].hist(bins = 20)"
   ]
  },
  {
   "cell_type": "code",
   "execution_count": null,
   "id": "4b7f383c",
   "metadata": {},
   "outputs": [],
   "source": [
    "housing['income_cat'].head()"
   ]
  },
  {
   "cell_type": "markdown",
   "id": "7caa6f85",
   "metadata": {},
   "source": [
    "# stratify data"
   ]
  },
  {
   "cell_type": "markdown",
   "id": "829cb1ff",
   "metadata": {},
   "source": [
    "### we need to stratify the data according to the median income categorie so we can have the same proportions of median income in the test set so when we compare the median income histogram of distribution in the whole dataset it will be simillar to the hist of the test dataset"
   ]
  },
  {
   "cell_type": "code",
   "execution_count": null,
   "id": "d3dcf6da",
   "metadata": {},
   "outputs": [],
   "source": [
    "from sklearn.model_selection import StratifiedShuffleSplit"
   ]
  },
  {
   "cell_type": "code",
   "execution_count": null,
   "id": "8133f11f",
   "metadata": {},
   "outputs": [],
   "source": [
    "split = StratifiedShuffleSplit(n_splits=1,test_size=0.2,random_state=42)"
   ]
  },
  {
   "cell_type": "code",
   "execution_count": null,
   "id": "6d63337e",
   "metadata": {},
   "outputs": [],
   "source": [
    "for train_index,test_index in split.split(housing,housing['income_cat']):\n",
    "    strat_train_set = housing.loc[train_index]\n",
    "    strat_test_set  = housing.loc[test_index]"
   ]
  },
  {
   "cell_type": "code",
   "execution_count": null,
   "id": "2f7ee005",
   "metadata": {},
   "outputs": [],
   "source": [
    "strat_test_set['income_cat'].value_counts()/len(strat_test_set)"
   ]
  },
  {
   "cell_type": "code",
   "execution_count": null,
   "id": "5c5acdfb",
   "metadata": {},
   "outputs": [],
   "source": [
    "housing['income_cat'].hist(bins = 20)\n",
    "plt.title(\"whole dataset\")\n",
    "plt.show()\n",
    "strat_test_set['income_cat'].hist(bins = 20)\n",
    "plt.title(\"test\")\n",
    "plt.show()\n",
    "strat_train_set['income_cat'].hist(bins = 20)\n",
    "plt.title('train')"
   ]
  },
  {
   "cell_type": "markdown",
   "id": "d33e3aa1",
   "metadata": {},
   "source": [
    "# explore data\n",
    "## visualise for insights"
   ]
  },
  {
   "cell_type": "code",
   "execution_count": null,
   "id": "a81d422b",
   "metadata": {},
   "outputs": [],
   "source": [
    "housing = strat_train_set.copy()"
   ]
  },
  {
   "cell_type": "code",
   "execution_count": null,
   "id": "b42aa57c",
   "metadata": {},
   "outputs": [],
   "source": [
    "housing.plot(kind='scatter',x='longitude',y='latitude')"
   ]
  },
  {
   "cell_type": "code",
   "execution_count": null,
   "id": "de834ce0",
   "metadata": {},
   "outputs": [],
   "source": [
    "housing.plot(kind='scatter',x='longitude',y='latitude',alpha = 0.1)"
   ]
  },
  {
   "cell_type": "code",
   "execution_count": null,
   "id": "c5a65767",
   "metadata": {
    "scrolled": false
   },
   "outputs": [],
   "source": [
    "housing.plot(kind='scatter',x='longitude',y='latitude',alpha = 0.4,\n",
    "            s = housing['population']/100, label = 'population', figsize = (15,12),\n",
    "            c = \"median_house_value\", cmap = plt.get_cmap(\"jet\"), colorbar = True)\n",
    "plt.legend()"
   ]
  },
  {
   "cell_type": "markdown",
   "id": "e045653f",
   "metadata": {},
   "source": [
    "## correlations"
   ]
  },
  {
   "cell_type": "code",
   "execution_count": null,
   "id": "a97f0a73",
   "metadata": {},
   "outputs": [],
   "source": [
    "corr_matrix = housing.corr()"
   ]
  },
  {
   "cell_type": "code",
   "execution_count": null,
   "id": "91509ead",
   "metadata": {},
   "outputs": [],
   "source": [
    "corr_matrix"
   ]
  },
  {
   "cell_type": "code",
   "execution_count": null,
   "id": "df0a13c7",
   "metadata": {},
   "outputs": [],
   "source": [
    "corr_matrix['median_house_value'].sort_values(ascending=False)"
   ]
  },
  {
   "cell_type": "code",
   "execution_count": null,
   "id": "2b68c519",
   "metadata": {},
   "outputs": [],
   "source": [
    "from pandas.plotting import scatter_matrix"
   ]
  },
  {
   "cell_type": "code",
   "execution_count": null,
   "id": "b95db299",
   "metadata": {},
   "outputs": [],
   "source": [
    "attr = ['median_house_value','median_income','total_rooms','housing_median_age']\n",
    "scatter_matrix(housing[attr],figsize=(12,8))"
   ]
  },
  {
   "cell_type": "code",
   "execution_count": null,
   "id": "db681e87",
   "metadata": {},
   "outputs": [],
   "source": [
    "housing.plot(kind = 'scatter',x='median_income',y='median_house_value',alpha = 0.1)"
   ]
  },
  {
   "cell_type": "markdown",
   "id": "de380862",
   "metadata": {},
   "source": [
    "### yaya part start"
   ]
  },
  {
   "cell_type": "code",
   "execution_count": null,
   "id": "79f76ee7",
   "metadata": {},
   "outputs": [],
   "source": [
    "import seaborn as sns "
   ]
  },
  {
   "cell_type": "code",
   "execution_count": null,
   "id": "c205ec87",
   "metadata": {},
   "outputs": [],
   "source": [
    "sns.heatmap(corr_matrix)"
   ]
  },
  {
   "cell_type": "code",
   "execution_count": null,
   "id": "1db57716",
   "metadata": {},
   "outputs": [],
   "source": [
    "sns.scatterplot(data=housing,x='median_income',y='median_house_value',hue='housing_median_age')"
   ]
  },
  {
   "cell_type": "markdown",
   "id": "e11ad21b",
   "metadata": {},
   "source": [
    "### yaya part end"
   ]
  },
  {
   "cell_type": "markdown",
   "id": "7b7c54fd",
   "metadata": {},
   "source": [
    "## attr. combinations"
   ]
  },
  {
   "cell_type": "code",
   "execution_count": null,
   "id": "d07d7cce",
   "metadata": {},
   "outputs": [],
   "source": [
    "housing.head()"
   ]
  },
  {
   "cell_type": "code",
   "execution_count": null,
   "id": "915d0b99",
   "metadata": {},
   "outputs": [],
   "source": [
    "housing[\"rooms_per_houshold\"]= housing['total_rooms']/housing['households']\n",
    "housing[\"bedrooms_per_room\"]= housing['total_bedrooms']/housing['total_rooms']\n",
    "housing[\"population_per_houshold\"]= housing['population']/housing['households']"
   ]
  },
  {
   "cell_type": "code",
   "execution_count": null,
   "id": "1858c49f",
   "metadata": {},
   "outputs": [],
   "source": [
    "corr_matrix = housing.corr()"
   ]
  },
  {
   "cell_type": "code",
   "execution_count": null,
   "id": "cf7f3c31",
   "metadata": {},
   "outputs": [],
   "source": [
    "corr_matrix['median_house_value'].sort_values(ascending=False)"
   ]
  },
  {
   "cell_type": "markdown",
   "id": "98594b12",
   "metadata": {},
   "source": [
    "### let's revert for a clean dataset and then split to features and labels"
   ]
  },
  {
   "cell_type": "code",
   "execution_count": null,
   "id": "174b3b3c",
   "metadata": {},
   "outputs": [],
   "source": [
    "housing = strat_train_set.drop(\"median_house_value\",axis = 1)\n",
    "housing_labels = strat_train_set['median_house_value'].copy()"
   ]
  },
  {
   "cell_type": "markdown",
   "id": "a60945ae",
   "metadata": {},
   "source": [
    "# data cleaning"
   ]
  },
  {
   "cell_type": "code",
   "execution_count": null,
   "id": "09eaca07",
   "metadata": {},
   "outputs": [],
   "source": [
    "housing.info()"
   ]
  },
  {
   "cell_type": "code",
   "execution_count": null,
   "id": "0842e179",
   "metadata": {},
   "outputs": [],
   "source": [
    "# first option for the NA values in the total bedrooms column is to fill it with the median of the column itself \n",
    "# we can drop the records with NA values alternatly or or drop the whole column\n",
    "total_bedrooms_median = housing[\"total_bedrooms\"].median()\n",
    "housing['total_bedrooms'].fillna(total_bedrooms_median,inplace=True)"
   ]
  },
  {
   "cell_type": "code",
   "execution_count": null,
   "id": "10c34c0d",
   "metadata": {},
   "outputs": [],
   "source": [
    "housing.info()"
   ]
  },
  {
   "cell_type": "code",
   "execution_count": null,
   "id": "d455fbe5",
   "metadata": {},
   "outputs": [],
   "source": [
    "housing.describe()"
   ]
  },
  {
   "cell_type": "code",
   "execution_count": null,
   "id": "d68a8e8f",
   "metadata": {},
   "outputs": [],
   "source": [
    "### now we reset it again to try Imputation\n",
    "housing = strat_train_set.drop(\"median_house_value\",axis = 1)\n",
    "housing_labels = strat_train_set['median_house_value'].copy()"
   ]
  },
  {
   "cell_type": "code",
   "execution_count": null,
   "id": "18f30cd8",
   "metadata": {},
   "outputs": [],
   "source": [
    "housing.info()"
   ]
  },
  {
   "cell_type": "markdown",
   "id": "4e0190cd",
   "metadata": {},
   "source": [
    "## Imputation using sklearn SimpleImputer"
   ]
  },
  {
   "cell_type": "code",
   "execution_count": null,
   "id": "c02c087c",
   "metadata": {},
   "outputs": [],
   "source": [
    "from sklearn.impute import SimpleImputer\n",
    "imputer = SimpleImputer(strategy=\"median\")"
   ]
  },
  {
   "cell_type": "code",
   "execution_count": null,
   "id": "4a50d570",
   "metadata": {},
   "outputs": [],
   "source": [
    "# imputer only handles numerical values so we need to create a frame without any categorial (text) attr. \n",
    "# in the housing dataframe we have ocean_proximity\n",
    "housing_num = housing.drop(\"ocean_proximity\",axis=1)"
   ]
  },
  {
   "cell_type": "code",
   "execution_count": null,
   "id": "f0ba5cdd",
   "metadata": {},
   "outputs": [],
   "source": [
    "#the imputer has. a fit method to use on the whole frame (housing_num)\n",
    "imputer.fit(housing_num)"
   ]
  },
  {
   "cell_type": "code",
   "execution_count": null,
   "id": "5157ee17",
   "metadata": {},
   "outputs": [],
   "source": [
    "imputer.statistics_"
   ]
  },
  {
   "cell_type": "code",
   "execution_count": null,
   "id": "f3f77cbf",
   "metadata": {},
   "outputs": [],
   "source": [
    "housing_num.median().values\n",
    "#just to make sure from the imputer's work"
   ]
  },
  {
   "cell_type": "code",
   "execution_count": null,
   "id": "b133716f",
   "metadata": {},
   "outputs": [],
   "source": [
    "#now that the imputer is traind we can replace usr it on our dataframe/ training set using the transform method\n",
    "X = imputer.transform(housing_num)"
   ]
  },
  {
   "cell_type": "code",
   "execution_count": null,
   "id": "6be8b648",
   "metadata": {},
   "outputs": [],
   "source": [
    "# the returned X is a plain Numpy Array with the transformed values \n",
    "X"
   ]
  },
  {
   "cell_type": "code",
   "execution_count": null,
   "id": "6f320d44",
   "metadata": {},
   "outputs": [],
   "source": [
    "# we can add it to a dataframe simply using pandas dataframe method \n",
    "housing_tr = pd.DataFrame(X,columns=housing_num.columns,index=housing_num.index)"
   ]
  },
  {
   "cell_type": "markdown",
   "id": "5811052e",
   "metadata": {},
   "source": [
    "## scikit-learn DESIGN\n",
    "\n",
    "there's alot of design principles but for most objects\n",
    "\n",
    "-- estimatros ( the fit() functions usage )\n",
    "\n",
    "-- transformers ( the transform() used for transforming dataframe like in impute example )\n",
    "                      { there is fit_transform() as as optimized method }\n",
    "\n",
    "-- predictors   ( the predict() used for predicting on a dataset of new instances for example \n",
    "                    and then there's score() method that measures the quality of the predections )"
   ]
  },
  {
   "cell_type": "markdown",
   "id": "2617cf04",
   "metadata": {},
   "source": [
    "## handling text and categorial data"
   ]
  },
  {
   "cell_type": "code",
   "execution_count": null,
   "id": "44ac57cf",
   "metadata": {},
   "outputs": [],
   "source": [
    "housing_cat = housing[[\"ocean_proximity\"]]"
   ]
  },
  {
   "cell_type": "code",
   "execution_count": null,
   "id": "a82b3d28",
   "metadata": {},
   "outputs": [],
   "source": [
    "housing_cat.head(10)"
   ]
  },
  {
   "cell_type": "code",
   "execution_count": null,
   "id": "85629b32",
   "metadata": {},
   "outputs": [],
   "source": [
    "housing_cat.value_counts()"
   ]
  },
  {
   "cell_type": "code",
   "execution_count": null,
   "id": "604127a7",
   "metadata": {},
   "outputs": [],
   "source": [
    "# so this attr. is a categorial text which means that it can be devided into categories \n",
    "# we can do so using ordinal encoding giving a number for each category\n",
    "from sklearn.preprocessing import OrdinalEncoder\n",
    "ordinal_encoder = OrdinalEncoder()\n",
    "housing_cat_encoded = ordinal_encoder.fit_transform(housing_cat)"
   ]
  },
  {
   "cell_type": "code",
   "execution_count": null,
   "id": "965b0fa5",
   "metadata": {},
   "outputs": [],
   "source": [
    "housing_cat_encoded[:10]"
   ]
  },
  {
   "cell_type": "code",
   "execution_count": null,
   "id": "0b01bbf5",
   "metadata": {},
   "outputs": [],
   "source": [
    "ordinal_encoder.categories_"
   ]
  },
  {
   "cell_type": "markdown",
   "id": "1c9c2470",
   "metadata": {},
   "source": [
    "### the problem with the ordinal encoder is that the ML algorithm or model may create a relation from the sequence of the number  and thier closeness to eachother which is not true in this case where 0 and 1 aren't closely related like 1 and 4 so the solution here is to creat one hot encoding which is binary representation of the categories"
   ]
  },
  {
   "cell_type": "code",
   "execution_count": null,
   "id": "f05c96dd",
   "metadata": {},
   "outputs": [],
   "source": [
    "from sklearn.preprocessing import OneHotEncoder\n",
    "cat_encoder = OneHotEncoder()\n",
    "housing_cat_1hot = cat_encoder.fit_transform(housing_cat)"
   ]
  },
  {
   "cell_type": "code",
   "execution_count": null,
   "id": "7d194a9f",
   "metadata": {},
   "outputs": [],
   "source": [
    "housing_cat_1hot"
   ]
  },
  {
   "cell_type": "code",
   "execution_count": null,
   "id": "cbfa2276",
   "metadata": {},
   "outputs": [],
   "source": [
    "# it's stored as a sparse matrix for memory space\n",
    "housing_cat_1hot.toarray()"
   ]
  },
  {
   "cell_type": "code",
   "execution_count": null,
   "id": "ca7e0b56",
   "metadata": {},
   "outputs": [],
   "source": [
    "cat_encoder.categories_"
   ]
  },
  {
   "cell_type": "code",
   "execution_count": null,
   "id": "8ebc6f2d",
   "metadata": {},
   "outputs": [],
   "source": []
  }
 ],
 "metadata": {
  "kernelspec": {
   "display_name": "Python 3 (ipykernel)",
   "language": "python",
   "name": "python3"
  },
  "language_info": {
   "codemirror_mode": {
    "name": "ipython",
    "version": 3
   },
   "file_extension": ".py",
   "mimetype": "text/x-python",
   "name": "python",
   "nbconvert_exporter": "python",
   "pygments_lexer": "ipython3",
   "version": "3.11.0"
  }
 },
 "nbformat": 4,
 "nbformat_minor": 5
}
